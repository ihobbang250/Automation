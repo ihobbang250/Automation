{
 "cells": [
  {
   "cell_type": "code",
   "execution_count": 3,
   "metadata": {},
   "outputs": [
    {
     "name": "stdout",
     "output_type": "stream",
     "text": [
      "--------------------------------\n",
      "oil\n",
      "--------------------------------\n",
      "--------------------------------\n",
      "gold\n",
      "--------------------------------\n",
      "--------------------------------\n",
      "copper\n",
      "--------------------------------\n"
     ]
    }
   ],
   "source": [
    "import requests as req\n",
    "from bs4 import BeautifulSoup as BS\n",
    "from collections import defaultdict\n",
    "import pandas as pd\n",
    "\n",
    "data = defaultdict(list)\n",
    "CATEGORY = ['oil', 'gold', 'copper']\n",
    "\n",
    "for c in CATEGORY:\n",
    "\n",
    "    print(\"--------------------------------\")\n",
    "    print(c)\n",
    "    print(\"--------------------------------\")\n",
    "\n",
    "    for i in range(20):\n",
    "        url = \"http://ft.com/\"+ c+\"?page=\" +str(i)\n",
    "\n",
    "        res = req.get(url)\n",
    "\n",
    "        soup = BS(res.text, \"html.parser\")\n",
    "\n",
    "        headlines = soup.select(\"div[class=o-teaser__heading]\")\n",
    "\n",
    "        for headline in headlines:\n",
    "            data[c].append(headline.get_text())"
   ]
  },
  {
   "cell_type": "code",
   "execution_count": 4,
   "metadata": {},
   "outputs": [
    {
     "name": "stdout",
     "output_type": "stream",
     "text": [
      "500\n",
      "500\n",
      "500\n"
     ]
    }
   ],
   "source": [
    "for c in CATEGORY:\n",
    "    print(len(data[c]))"
   ]
  },
  {
   "cell_type": "code",
   "execution_count": 6,
   "metadata": {},
   "outputs": [],
   "source": [
    "df = pd.DataFrame(data)\n",
    "df.to_csv(\"NEWS_data2.csv\", index=False)"
   ]
  }
 ],
 "metadata": {
  "kernelspec": {
   "display_name": "main",
   "language": "python",
   "name": "python3"
  },
  "language_info": {
   "codemirror_mode": {
    "name": "ipython",
    "version": 3
   },
   "file_extension": ".py",
   "mimetype": "text/x-python",
   "name": "python",
   "nbconvert_exporter": "python",
   "pygments_lexer": "ipython3",
   "version": "3.10.4"
  },
  "orig_nbformat": 4
 },
 "nbformat": 4,
 "nbformat_minor": 2
}
